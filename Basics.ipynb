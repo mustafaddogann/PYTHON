{
 "cells": [
  {
   "cell_type": "code",
   "execution_count": 1,
   "metadata": {
    "collapsed": true
   },
   "outputs": [],
   "source": [
    "import pandas as pd\n",
    "import numpy as np\n",
    "import matplotlib.pyplot as plt"
   ]
  },
  {
   "cell_type": "code",
   "execution_count": 2,
   "metadata": {
    "collapsed": true
   },
   "outputs": [],
   "source": [
    "col_names = ['symboling', 'normalized-losses', 'make', 'fuel-type',\n",
    "            'aspiration','num-of-doors','body-style', 'drive-wheels',\n",
    "            'engine-location', 'wheel-base','length', 'width',\n",
    "            'height','curb-weight','engine-type','num-of-cylinders',\n",
    "            'engine-size','fuel-system','bore','stroke','compression-ratio',\n",
    "            'horsepower','peak-rpm','city-mpg', 'highway-mpg','price']\n",
    "cars = pd.read_csv('imports-85.data',names=col_names)"
   ]
  },
  {
   "cell_type": "code",
   "execution_count": 3,
   "metadata": {
    "collapsed": false
   },
   "outputs": [
    {
     "data": {
      "text/html": [
       "<div>\n",
       "<style scoped>\n",
       "    .dataframe tbody tr th:only-of-type {\n",
       "        vertical-align: middle;\n",
       "    }\n",
       "\n",
       "    .dataframe tbody tr th {\n",
       "        vertical-align: top;\n",
       "    }\n",
       "\n",
       "    .dataframe thead th {\n",
       "        text-align: right;\n",
       "    }\n",
       "</style>\n",
       "<table border=\"1\" class=\"dataframe\">\n",
       "  <thead>\n",
       "    <tr style=\"text-align: right;\">\n",
       "      <th></th>\n",
       "      <th>symboling</th>\n",
       "      <th>normalized-losses</th>\n",
       "      <th>make</th>\n",
       "      <th>fuel-type</th>\n",
       "      <th>aspiration</th>\n",
       "      <th>num-of-doors</th>\n",
       "      <th>body-style</th>\n",
       "      <th>drive-wheels</th>\n",
       "      <th>engine-location</th>\n",
       "      <th>wheel-base</th>\n",
       "      <th>...</th>\n",
       "      <th>engine-size</th>\n",
       "      <th>fuel-system</th>\n",
       "      <th>bore</th>\n",
       "      <th>stroke</th>\n",
       "      <th>compression-ratio</th>\n",
       "      <th>horsepower</th>\n",
       "      <th>peak-rpm</th>\n",
       "      <th>city-mpg</th>\n",
       "      <th>highway-mpg</th>\n",
       "      <th>price</th>\n",
       "    </tr>\n",
       "  </thead>\n",
       "  <tbody>\n",
       "    <tr>\n",
       "      <th>0</th>\n",
       "      <td>3</td>\n",
       "      <td>?</td>\n",
       "      <td>alfa-romero</td>\n",
       "      <td>gas</td>\n",
       "      <td>std</td>\n",
       "      <td>two</td>\n",
       "      <td>convertible</td>\n",
       "      <td>rwd</td>\n",
       "      <td>front</td>\n",
       "      <td>88.6</td>\n",
       "      <td>...</td>\n",
       "      <td>130</td>\n",
       "      <td>mpfi</td>\n",
       "      <td>3.47</td>\n",
       "      <td>2.68</td>\n",
       "      <td>9.0</td>\n",
       "      <td>111</td>\n",
       "      <td>5000</td>\n",
       "      <td>21</td>\n",
       "      <td>27</td>\n",
       "      <td>13495</td>\n",
       "    </tr>\n",
       "    <tr>\n",
       "      <th>1</th>\n",
       "      <td>3</td>\n",
       "      <td>?</td>\n",
       "      <td>alfa-romero</td>\n",
       "      <td>gas</td>\n",
       "      <td>std</td>\n",
       "      <td>two</td>\n",
       "      <td>convertible</td>\n",
       "      <td>rwd</td>\n",
       "      <td>front</td>\n",
       "      <td>88.6</td>\n",
       "      <td>...</td>\n",
       "      <td>130</td>\n",
       "      <td>mpfi</td>\n",
       "      <td>3.47</td>\n",
       "      <td>2.68</td>\n",
       "      <td>9.0</td>\n",
       "      <td>111</td>\n",
       "      <td>5000</td>\n",
       "      <td>21</td>\n",
       "      <td>27</td>\n",
       "      <td>16500</td>\n",
       "    </tr>\n",
       "    <tr>\n",
       "      <th>2</th>\n",
       "      <td>1</td>\n",
       "      <td>?</td>\n",
       "      <td>alfa-romero</td>\n",
       "      <td>gas</td>\n",
       "      <td>std</td>\n",
       "      <td>two</td>\n",
       "      <td>hatchback</td>\n",
       "      <td>rwd</td>\n",
       "      <td>front</td>\n",
       "      <td>94.5</td>\n",
       "      <td>...</td>\n",
       "      <td>152</td>\n",
       "      <td>mpfi</td>\n",
       "      <td>2.68</td>\n",
       "      <td>3.47</td>\n",
       "      <td>9.0</td>\n",
       "      <td>154</td>\n",
       "      <td>5000</td>\n",
       "      <td>19</td>\n",
       "      <td>26</td>\n",
       "      <td>16500</td>\n",
       "    </tr>\n",
       "    <tr>\n",
       "      <th>3</th>\n",
       "      <td>2</td>\n",
       "      <td>164</td>\n",
       "      <td>audi</td>\n",
       "      <td>gas</td>\n",
       "      <td>std</td>\n",
       "      <td>four</td>\n",
       "      <td>sedan</td>\n",
       "      <td>fwd</td>\n",
       "      <td>front</td>\n",
       "      <td>99.8</td>\n",
       "      <td>...</td>\n",
       "      <td>109</td>\n",
       "      <td>mpfi</td>\n",
       "      <td>3.19</td>\n",
       "      <td>3.40</td>\n",
       "      <td>10.0</td>\n",
       "      <td>102</td>\n",
       "      <td>5500</td>\n",
       "      <td>24</td>\n",
       "      <td>30</td>\n",
       "      <td>13950</td>\n",
       "    </tr>\n",
       "    <tr>\n",
       "      <th>4</th>\n",
       "      <td>2</td>\n",
       "      <td>164</td>\n",
       "      <td>audi</td>\n",
       "      <td>gas</td>\n",
       "      <td>std</td>\n",
       "      <td>four</td>\n",
       "      <td>sedan</td>\n",
       "      <td>4wd</td>\n",
       "      <td>front</td>\n",
       "      <td>99.4</td>\n",
       "      <td>...</td>\n",
       "      <td>136</td>\n",
       "      <td>mpfi</td>\n",
       "      <td>3.19</td>\n",
       "      <td>3.40</td>\n",
       "      <td>8.0</td>\n",
       "      <td>115</td>\n",
       "      <td>5500</td>\n",
       "      <td>18</td>\n",
       "      <td>22</td>\n",
       "      <td>17450</td>\n",
       "    </tr>\n",
       "  </tbody>\n",
       "</table>\n",
       "<p>5 rows × 26 columns</p>\n",
       "</div>"
      ],
      "text/plain": [
       "   symboling normalized-losses         make fuel-type aspiration num-of-doors  \\\n",
       "0          3                 ?  alfa-romero       gas        std          two   \n",
       "1          3                 ?  alfa-romero       gas        std          two   \n",
       "2          1                 ?  alfa-romero       gas        std          two   \n",
       "3          2               164         audi       gas        std         four   \n",
       "4          2               164         audi       gas        std         four   \n",
       "\n",
       "    body-style drive-wheels engine-location  wheel-base  ...    engine-size  \\\n",
       "0  convertible          rwd           front        88.6  ...            130   \n",
       "1  convertible          rwd           front        88.6  ...            130   \n",
       "2    hatchback          rwd           front        94.5  ...            152   \n",
       "3        sedan          fwd           front        99.8  ...            109   \n",
       "4        sedan          4wd           front        99.4  ...            136   \n",
       "\n",
       "   fuel-system  bore  stroke compression-ratio horsepower  peak-rpm city-mpg  \\\n",
       "0         mpfi  3.47    2.68               9.0        111      5000       21   \n",
       "1         mpfi  3.47    2.68               9.0        111      5000       21   \n",
       "2         mpfi  2.68    3.47               9.0        154      5000       19   \n",
       "3         mpfi  3.19    3.40              10.0        102      5500       24   \n",
       "4         mpfi  3.19    3.40               8.0        115      5500       18   \n",
       "\n",
       "  highway-mpg  price  \n",
       "0          27  13495  \n",
       "1          27  16500  \n",
       "2          26  16500  \n",
       "3          30  13950  \n",
       "4          22  17450  \n",
       "\n",
       "[5 rows x 26 columns]"
      ]
     },
     "execution_count": 3,
     "metadata": {},
     "output_type": "execute_result"
    }
   ],
   "source": [
    "cars.head()"
   ]
  },
  {
   "cell_type": "markdown",
   "metadata": {},
   "source": [
    "Appear to be missing values in the normalized-loss column\n",
    "\n",
    "Target column: Price (last column)"
   ]
  },
  {
   "cell_type": "code",
   "execution_count": 4,
   "metadata": {
    "collapsed": false
   },
   "outputs": [
    {
     "data": {
      "text/plain": [
       "Index(['symboling', 'wheel-base', 'length', 'width', 'height', 'curb-weight',\n",
       "       'engine-size', 'compression-ratio', 'city-mpg', 'highway-mpg'],\n",
       "      dtype='object')"
      ]
     },
     "execution_count": 4,
     "metadata": {},
     "output_type": "execute_result"
    }
   ],
   "source": [
    "# Numeric columns\n",
    "num_cols = cars.select_dtypes([int, float]).columns\n",
    "num_cols"
   ]
  },
  {
   "cell_type": "code",
   "execution_count": 5,
   "metadata": {
    "collapsed": false
   },
   "outputs": [
    {
     "name": "stdout",
     "output_type": "stream",
     "text": [
      "<class 'pandas.core.frame.DataFrame'>\n",
      "RangeIndex: 205 entries, 0 to 204\n",
      "Data columns (total 26 columns):\n",
      "symboling            205 non-null int64\n",
      "normalized-losses    205 non-null object\n",
      "make                 205 non-null object\n",
      "fuel-type            205 non-null object\n",
      "aspiration           205 non-null object\n",
      "num-of-doors         205 non-null object\n",
      "body-style           205 non-null object\n",
      "drive-wheels         205 non-null object\n",
      "engine-location      205 non-null object\n",
      "wheel-base           205 non-null float64\n",
      "length               205 non-null float64\n",
      "width                205 non-null float64\n",
      "height               205 non-null float64\n",
      "curb-weight          205 non-null int64\n",
      "engine-type          205 non-null object\n",
      "num-of-cylinders     205 non-null object\n",
      "engine-size          205 non-null int64\n",
      "fuel-system          205 non-null object\n",
      "bore                 205 non-null object\n",
      "stroke               205 non-null object\n",
      "compression-ratio    205 non-null float64\n",
      "horsepower           205 non-null object\n",
      "peak-rpm             205 non-null object\n",
      "city-mpg             205 non-null int64\n",
      "highway-mpg          205 non-null int64\n",
      "price                205 non-null object\n",
      "dtypes: float64(5), int64(5), object(16)\n",
      "memory usage: 41.7+ KB\n"
     ]
    }
   ],
   "source": [
    "cars.info()"
   ]
  },
  {
   "cell_type": "code",
   "execution_count": 6,
   "metadata": {
    "collapsed": false
   },
   "outputs": [],
   "source": [
    "# Missing values were originally represented with ?, replaced with nan\n",
    "cars = cars.replace(r'?',np.nan)\n",
    "# Object type columns that should be changed to numeric\n",
    "num_change = ['bore','stroke','horsepower','peak-rpm',\n",
    "              'price','normalized-losses']\n",
    "cars[num_change] = cars[num_change].astype(float)"
   ]
  },
  {
   "cell_type": "code",
   "execution_count": 8,
   "metadata": {
    "collapsed": false
   },
   "outputs": [],
   "source": [
    "# Dropping these because compression ratio is a function of stroke and bore\n",
    "cars = cars.drop(columns=['bore','stroke','symboling'])\n",
    "# Dropping observations where the price (target is missing)\n",
    "cars = cars.dropna(subset=['price'])"
   ]
  },
  {
   "cell_type": "code",
   "execution_count": 9,
   "metadata": {
    "collapsed": false
   },
   "outputs": [],
   "source": [
    "# Selecting numeric columns\n",
    "numeric_columns = cars.select_dtypes([int,float]).columns\n",
    "# Imputing the means of numeric columns\n",
    "cars[numeric_columns] = cars[numeric_columns].fillna(cars[numeric_columns].mean())"
   ]
  },
  {
   "cell_type": "code",
   "execution_count": 10,
   "metadata": {
    "collapsed": false
   },
   "outputs": [
    {
     "name": "stdout",
     "output_type": "stream",
     "text": [
      "<class 'pandas.core.frame.DataFrame'>\n",
      "Int64Index: 201 entries, 0 to 204\n",
      "Data columns (total 13 columns):\n",
      "normalized-losses    201 non-null float64\n",
      "wheel-base           201 non-null float64\n",
      "length               201 non-null float64\n",
      "width                201 non-null float64\n",
      "height               201 non-null float64\n",
      "curb-weight          201 non-null int64\n",
      "engine-size          201 non-null int64\n",
      "compression-ratio    201 non-null float64\n",
      "horsepower           201 non-null float64\n",
      "peak-rpm             201 non-null float64\n",
      "city-mpg             201 non-null int64\n",
      "highway-mpg          201 non-null int64\n",
      "price                201 non-null float64\n",
      "dtypes: float64(9), int64(4)\n",
      "memory usage: 22.0 KB\n"
     ]
    }
   ],
   "source": [
    "# No null values\n",
    "cars[numeric_columns].info()"
   ]
  },
  {
   "cell_type": "code",
   "execution_count": 11,
   "metadata": {
    "collapsed": false
   },
   "outputs": [],
   "source": [
    "# Selecting only the numeric features\n",
    "X = cars.loc[:,numeric_columns]\n",
    "y = X['price']\n",
    "\n",
    "# Normalizing cols\n",
    "X_norm = (X - X.min()) / (X.max()-X.min())\n",
    "X_norm= X_norm.drop(columns=['price'])\n",
    "y_norm = y"
   ]
  },
  {
   "cell_type": "code",
   "execution_count": 126,
   "metadata": {
    "collapsed": false
   },
   "outputs": [],
   "source": [
    "from sklearn.model_selection import train_test_split\n",
    "from sklearn.neighbors import KNeighborsRegressor\n",
    "from sklearn.metrics import mean_squared_error\n",
    "def knn_train_test(train_col,tar_col,df,*n):\n",
    "    '''\n",
    "    Function that takes a single training column, a single target column\n",
    "    the dataframe containing the training data and the k used\n",
    "    \n",
    "    1. Splits the training and target data into two equal parts\n",
    "    2. Then calculates and returns the RMSE for each k value\n",
    "    '''\n",
    "    #This method was used to split because different values are selected each run\n",
    "    Xtr,Xte,ytr,yte = train_test_split(df[[train_col]],tar_col,train_size = .75)\n",
    "    k_rmse = {}\n",
    "    for i in n:\n",
    "        knn = KNeighborsRegressor(i)\n",
    "        knn.fit(Xtr,ytr)\n",
    "        predictions = knn.predict(Xte)\n",
    "        rmse = mean_squared_error(yte,predictions) ** (1/2)\n",
    "        k_rmse[i] = rmse\n",
    "    return k_rmse"
   ]
  },
  {
   "cell_type": "code",
   "execution_count": 127,
   "metadata": {
    "collapsed": false
   },
   "outputs": [],
   "source": [
    "# Using the above function measure RMSE with each column\n",
    "cols = {}\n",
    "for col in X_norm.columns:\n",
    "    cols[str(col)]= knn_train_test(col,y_norm,X_norm,3,5,7,9)"
   ]
  },
  {
   "cell_type": "code",
   "execution_count": 128,
   "metadata": {
    "collapsed": false
   },
   "outputs": [
    {
     "data": {
      "text/plain": [
       "['horsepower',\n",
       " 'engine-size',\n",
       " 'curb-weight',\n",
       " 'width',\n",
       " 'city-mpg',\n",
       " 'highway-mpg',\n",
       " 'wheel-base',\n",
       " 'length',\n",
       " 'compression-ratio',\n",
       " 'peak-rpm',\n",
       " 'normalized-losses',\n",
       " 'height']"
      ]
     },
     "execution_count": 128,
     "metadata": {},
     "output_type": "execute_result"
    }
   ],
   "source": [
    "# Looping through the previously created dictionary of RMSE values\n",
    "# to find the minimum RMSE value by column\n",
    "avgs = {}\n",
    "for i in cols:\n",
    "    avgs[i] = np.mean(list(cols[i].values()))\n",
    "# Sorting the dictionary by the values and appending it to a list for later use\n",
    "sorted_avgs = []\n",
    "for i in sorted(avgs,key=avgs.get):\n",
    "    sorted_avgs.append(i)\n",
    "    \n",
    "sorted_avgs"
   ]
  },
  {
   "cell_type": "code",
   "execution_count": 15,
   "metadata": {
    "collapsed": false
   },
   "outputs": [
    {
     "data": {
      "text/plain": [
       "<matplotlib.legend.Legend at 0x7f433c7ae438>"
      ]
     },
     "execution_count": 15,
     "metadata": {},
     "output_type": "execute_result"
    },
    {
     "data": {
      "image/png": "[encoded data removed]",
      "text/plain": [
       "<matplotlib.figure.Figure at 0x7f43837f00b8>"
      ]
     },
     "metadata": {},
     "output_type": "display_data"
    }
   ],
   "source": [
    "# Plotting the performance of Kvalues by column\n",
    "%matplotlib inline\n",
    "\n",
    "for k,v in cols.items():\n",
    "    x = list(v.keys())\n",
    "    y = list(v.values())\n",
    "    plt.plot(x,y)\n",
    "    plt.xlabel('k value')\n",
    "    plt.ylabel('RMSE')\n",
    "    \n",
    "plt.legend(cols.keys(),bbox_to_anchor=(1.04,1), loc=\"upper left\")"
   ]
  },
  {
   "cell_type": "code",
   "execution_count": 148,
   "metadata": {
    "collapsed": false
   },
   "outputs": [],
   "source": [
    "def knn_train_test_multi(train_col,tar_col,*n):\n",
    "    '''\n",
    "    Function that takes a single training column, a single target column\n",
    "    the dataframe containing the training data and the k used\n",
    "    \n",
    "    1. Splits the training and target data into two equal parts\n",
    "    2. Then calculates and returns the RMSE for each k value\n",
    "    \n",
    "    ***This function works for mutliple features\n",
    "    '''\n",
    "    #This method was used to split because different values are selected each iteration\n",
    "    Xtr,Xte,ytr,yte = train_test_split(train_col,tar_col,train_size = .75)\n",
    "    k_rmse = {}\n",
    "    for i in n:\n",
    "        knn = KNeighborsRegressor(i)\n",
    "        knn.fit(Xtr,ytr)\n",
    "        predictions = knn.predict(Xte)\n",
    "        rmse = mean_squared_error(yte,predictions) ** (1/2)\n",
    "        k_rmse[i] = rmse\n",
    "    return k_rmse"
   ]
  },
  {
   "cell_type": "code",
   "execution_count": 151,
   "metadata": {
    "collapsed": false
   },
   "outputs": [
    {
     "data": {
      "text/plain": [
       "<matplotlib.legend.Legend at 0x7f43385d92e8>"
      ]
     },
     "execution_count": 151,
     "metadata": {},
     "output_type": "execute_result"
    },
    {
     "data": {
      "image/png": "[encoded data removed]",
      "text/plain": [
       "<matplotlib.figure.Figure at 0x7f43385d9908>"
      ]
     },
     "metadata": {},
     "output_type": "display_data"
    }
   ],
   "source": [
    "RMSEs = {}\n",
    "# Creating a dictionary: number of features is the key, the values are a dictionary of RMSEs by k values\n",
    "for i in range(2,6):\n",
    "    RMSEs[str(i)+' Features:'] = knn_train_test_multi(X_norm[sorted_avgs[:i]], y_norm,5,6,7,8,9,10,11,12,13,14,15,16,17,18,19,20)\n",
    "    \n",
    "# Plotting in the same cell to better visualize changes of different runs\n",
    "for k,v in RMSEs.items():\n",
    "    x = list(v.keys())\n",
    "    y = list(v.values())\n",
    "    plt.plot(x,y,label='{}'.format(k))\n",
    "plt.xlabel('k value')\n",
    "plt.ylabel('RMSE')\n",
    "plt.legend(RMSEs.keys(),bbox_to_anchor=(1.04,1), loc=\"upper left\")"
   ]
  },
  {
   "cell_type": "code",
   "execution_count": 133,
   "metadata": {
    "collapsed": false
   },
   "outputs": [
    {
     "data": {
      "text/plain": [
       "{'2 Features:': {5: 2586.3339474714276,\n",
       "  6: 2694.390402901218,\n",
       "  7: 2772.9647732803137,\n",
       "  8: 2875.0401278103245,\n",
       "  9: 2928.8151703970834,\n",
       "  10: 2963.4330582593416,\n",
       "  11: 3115.790003666067,\n",
       "  12: 3300.618396310978,\n",
       "  13: 3250.2437756620416,\n",
       "  14: 3222.777676132797,\n",
       "  15: 3180.492931486111,\n",
       "  16: 3238.8851490374004,\n",
       "  17: 3303.727763874874,\n",
       "  18: 3377.5835066162413,\n",
       "  19: 3452.5480401872273,\n",
       "  20: 3426.9371293731774},\n",
       " '3 Features:': {5: 3975.938058656662,\n",
       "  6: 3529.377719688741,\n",
       "  7: 3799.0505786208705,\n",
       "  8: 3880.552271715607,\n",
       "  9: 3911.9204079197234,\n",
       "  10: 3711.6590257103703,\n",
       "  11: 3669.64449415725,\n",
       "  12: 3566.869928848628,\n",
       "  13: 3554.802986214155,\n",
       "  14: 3622.106845124671,\n",
       "  15: 3626.3457356078475,\n",
       "  16: 3712.988360620038,\n",
       "  17: 3784.3873679091207,\n",
       "  18: 3846.1748348224874,\n",
       "  19: 3914.497286480866,\n",
       "  20: 3913.0656560275543},\n",
       " '4 Features:': {5: 2719.441723128149,\n",
       "  6: 2912.524484641862,\n",
       "  7: 3056.6744105613984,\n",
       "  8: 3170.5867098796075,\n",
       "  9: 3270.0833493345785,\n",
       "  10: 3404.1022612862434,\n",
       "  11: 3515.432865254089,\n",
       "  12: 3602.11386636186,\n",
       "  13: 3639.3092412027327,\n",
       "  14: 3633.623672698911,\n",
       "  15: 3691.631350674258,\n",
       "  16: 3663.2742160323496,\n",
       "  17: 3646.9413236457763,\n",
       "  18: 3452.1230382992617,\n",
       "  19: 3476.809448882398,\n",
       "  20: 3523.2133775956045},\n",
       " '5 Features:': {5: 3720.906335194977,\n",
       "  6: 3801.21760850251,\n",
       "  7: 3930.264119320615,\n",
       "  8: 3698.836551354994,\n",
       "  9: 3836.1968437710284,\n",
       "  10: 3994.580574291849,\n",
       "  11: 3867.990398145089,\n",
       "  12: 3931.2090669509475,\n",
       "  13: 3965.5484904979758,\n",
       "  14: 4042.845238003476,\n",
       "  15: 4145.27282134707,\n",
       "  16: 4051.4444569095854,\n",
       "  17: 4029.983038296968,\n",
       "  18: 4096.849387423421,\n",
       "  19: 4003.434588564616,\n",
       "  20: 3946.3908879680503}}"
      ]
     },
     "execution_count": 133,
     "metadata": {},
     "output_type": "execute_result"
    }
   ],
   "source": [
    "RMSEs"
   ]
  },
  {
   "cell_type": "code",
   "execution_count": null,
   "metadata": {
    "collapsed": true
   },
   "outputs": [],
   "source": []
  }
 ],
 "metadata": {
  "kernelspec": {
   "display_name": "Python 3",
   "language": "python",
   "name": "python3"
  },
  "language_info": {
   "codemirror_mode": {
    "name": "ipython",
    "version": 3
   },
   "file_extension": ".py",
   "mimetype": "text/x-python",
   "name": "python",
   "nbconvert_exporter": "python",
   "pygments_lexer": "ipython3",
   "version": "3.4.3"
  }
 },
 "nbformat": 4,
 "nbformat_minor": 2
}
